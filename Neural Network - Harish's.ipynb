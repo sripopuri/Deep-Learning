{
 "cells": [
  {
   "cell_type": "code",
   "execution_count": 1,
   "metadata": {},
   "outputs": [],
   "source": [
    "import numpy as np\n",
    "import pandas as pd\n",
    "import matplotlib.pyplot as plt"
   ]
  },
  {
   "cell_type": "code",
   "execution_count": 10,
   "metadata": {},
   "outputs": [],
   "source": [
    "def sigmoid(z):\n",
    "    s = 1/(1+np.exp(-z))\n",
    "    cache = z\n",
    "    return s, cache"
   ]
  },
  {
   "cell_type": "code",
   "execution_count": 11,
   "metadata": {},
   "outputs": [],
   "source": [
    "def relu(z):\n",
    "    s = np.maximum(0,z)\n",
    "    cache = z\n",
    "    return s, cache"
   ]
  },
  {
   "cell_type": "code",
   "execution_count": 12,
   "metadata": {},
   "outputs": [],
   "source": [
    "def sigmoid_backward(dA, cache):\n",
    "    Z = cache\n",
    "    s = 1/(1+np.exp(-Z))\n",
    "    dZ = dA*s*(1-s)\n",
    "    return dZ"
   ]
  },
  {
   "cell_type": "code",
   "execution_count": 13,
   "metadata": {},
   "outputs": [],
   "source": [
    "def relu_backward(dA, cache):\n",
    "    Z = cache\n",
    "    dZ = np.array(dA, copy=True)\n",
    "    dZ[Z<=0] = 0\n",
    "    return dZ"
   ]
  },
  {
   "cell_type": "code",
   "execution_count": 28,
   "metadata": {},
   "outputs": [],
   "source": [
    "def intialize_parameters_deep(dims):\n",
    "    np.random.seed(3)\n",
    "    params = {}\n",
    "    L = len(dims)\n",
    "    \n",
    "    for l in range(1,L):\n",
    "        params['W' + str(l)] = np.random.randn(dims[l],dims[l-1])*0.01\n",
    "        params['b' + str(l)] = np.zeros((dims[l],1))\n",
    "    \n",
    "    return params"
   ]
  },
  {
   "cell_type": "code",
   "execution_count": 15,
   "metadata": {},
   "outputs": [],
   "source": [
    "def linear_forward(A, W, b):\n",
    "    Z = np.dot(W,A) + b\n",
    "    cache = (A,W,b)\n",
    "    return Z,cache"
   ]
  },
  {
   "cell_type": "code",
   "execution_count": 16,
   "metadata": {},
   "outputs": [],
   "source": [
    "def linear_activation_forward(A_prev,W,b,activation):\n",
    "    \n",
    "    if activation == 'relu':\n",
    "        Z, linear_cache = linear_forward(A_prev,W,b)\n",
    "        A,activation_cache = relu(Z)\n",
    "        \n",
    "    elif activation == 'sigmoid':\n",
    "        Z, linear_cache = linear_forward(A_prev,W,b)\n",
    "        A,activation_cache = sigmoid(Z)\n",
    "    \n",
    "    cache = (linear_cache, activation_cache)\n",
    "    return A, cache"
   ]
  },
  {
   "cell_type": "code",
   "execution_count": 30,
   "metadata": {},
   "outputs": [],
   "source": [
    "def L_model_forward(X, params):\n",
    "    \n",
    "    caches = []\n",
    "    A = X\n",
    "    L = len(params)//2\n",
    "    \n",
    "    for l in range(1,L):\n",
    "        A_prev = A\n",
    "        A, cache = linear_activation_forward(A_prev,\n",
    "                                             params['W'+str(l)],\n",
    "                                             params['b'+str(l)],\n",
    "                                             'relu')\n",
    "        caches.append(cache)\n",
    "    \n",
    "    A_last, cache = linear_activation_forward(A,\n",
    "                                             params['W'+str(L)],\n",
    "                                             params['b'+str(L)],\n",
    "                                             'sigmoid')\n",
    "    \n",
    "    caches.append(cache)\n",
    "    return A_last,caches        "
   ]
  },
  {
   "cell_type": "code",
   "execution_count": 18,
   "metadata": {},
   "outputs": [],
   "source": [
    "def compute_cost(A_last, Y):\n",
    "    \n",
    "    m = Y.shape[1]\n",
    "    cost = (-1/m)*(np.sum(np.multiply(Y,np.log(A_last)) + np.multiply((1-Y),np.log(1-A_last))))\n",
    "    cost = np.squeeze(cost)\n",
    "    return cost"
   ]
  },
  {
   "cell_type": "code",
   "execution_count": 19,
   "metadata": {},
   "outputs": [],
   "source": [
    "def linear_backward(dZ, cache):\n",
    "    A_prev,W,b = cache\n",
    "    m = A_prev.shape[1]\n",
    "    \n",
    "    dW = (1/m)*np.dot(dZ,cache[0].T)\n",
    "    db = (1/m)*np.sum(dZ,axis=1,keepdims=True)\n",
    "    dA_prev = np.dot(cache[1].T,dZ)\n",
    "    \n",
    "    return dA_prev,dW,db"
   ]
  },
  {
   "cell_type": "code",
   "execution_count": 34,
   "metadata": {},
   "outputs": [],
   "source": [
    "def linear_activation_backward(dA,cache,activation):\n",
    "    \n",
    "    linear_cache,activation_cache = cache\n",
    "    \n",
    "    if activation == 'relu':\n",
    "        dZ = relu_backward(dA, activation_cache)\n",
    "        dA_prev, dW, db = linear_backward(dZ, linear_cache)\n",
    "        \n",
    "    elif activation == 'sigmoid':\n",
    "        dZ = sigmoid_backward(dA, activation_cache)\n",
    "        dA_prev, dW, db = linear_backward(dZ, linear_cache)\n",
    "        \n",
    "    return dA_prev, dW, db"
   ]
  },
  {
   "cell_type": "code",
   "execution_count": 32,
   "metadata": {},
   "outputs": [],
   "source": [
    "def L_model_backward(A_last,Y,caches):\n",
    "    \n",
    "    grads = {}\n",
    "    L = len(caches)\n",
    "    m = A_last.shape[1]\n",
    "    Y = Y.reshape(A_last.shape)\n",
    "\n",
    "    dA_last = - (np.divide(Y, A_last) - np.divide(1 - Y, 1 - A_last))\n",
    "    current_cache = caches[-1]\n",
    "    grads[\"dA\" + str(L)], grads[\"dW\" + str(L)], grads[\"db\" + str(L)] = linear_activation_backward(dA_last,\n",
    "                                                                                                  current_cache,\n",
    "                                                                                                  activation=\"sigmoid\")\n",
    "\n",
    "    for l in reversed(range(L - 1)):\n",
    "        current_cache = caches[l]\n",
    "\n",
    "        dA_prev_temp, dW_temp, db_temp = linear_activation_backward(grads[\"dA\" + str(l + 2)], current_cache,\n",
    "                                                                    activation=\"relu\")\n",
    "        grads[\"dA\" + str(l + 1)] = dA_prev_temp\n",
    "        grads[\"dW\" + str(l + 1)] = dW_temp\n",
    "        grads[\"db\" + str(l + 1)] = db_temp\n",
    "\n",
    "    return grads\n",
    " "
   ]
  },
  {
   "cell_type": "code",
   "execution_count": 22,
   "metadata": {},
   "outputs": [],
   "source": [
    "def update_params(params, grads, alpha):\n",
    "    \n",
    "    L = len(params)//2\n",
    "    \n",
    "    for l in range(L):\n",
    "        params[\"W\"+str(l+1)] = params[\"W\"+str(l+1)] - alpha*grads[\"dW\"+str(l+1)]\n",
    "        params[\"b\"+str(l+1)] = params[\"b\"+str(l+1)] - alpha*grads[\"db\"+str(l+1)]\n",
    "    \n",
    "    return params"
   ]
  },
  {
   "cell_type": "code",
   "execution_count": 70,
   "metadata": {},
   "outputs": [],
   "source": [
    "def model(X, Y, layer_dims, alpha = 0.009, num_iterations = 1200, print_cost = True):\n",
    "    \n",
    "    np.random.seed(3)\n",
    "    costs = []\n",
    "    \n",
    "    params = intialize_parameters_deep(layer_dims)\n",
    "    \n",
    "    for i in range(0, num_iterations):\n",
    "        \n",
    "        A_last, caches = L_model_forward(X, params)\n",
    "        cost = compute_cost(A_last, Y)\n",
    "        grads = L_model_backward(A_last, Y, caches)\n",
    "        params = update_params(params,grads,alpha)\n",
    "        \n",
    "        if print_cost and i%100 == 0:\n",
    "            print(\"Cost after iteration %i: %f\" % (i,cost))\n",
    "        if print_cost and i%100 == 0:\n",
    "            costs.append(cost)\n",
    "            \n",
    "    predictions = predict(params,X)\n",
    "    print('\\nAccuracy on training set: %.2f' % float(\n",
    "        (np.dot(Y, predictions.T) + np.dot(1 - Y, 1 - predictions.T)) / float(Y.size) * 100) + '%')\n",
    "    truePositive = 0\n",
    "    trueNegative = 0\n",
    "    falseNegative = 0\n",
    "    falsePositive = 0\n",
    "    predictions = predictions.astype(int)\n",
    "    predList = predictions.tolist()\n",
    "    tlist = Y.tolist()\n",
    "\n",
    "    array_length = len(predList[0])\n",
    "    for i in range(array_length):\n",
    "        if predList[0][i] == 1 and tlist[0][i] == 1:\n",
    "            truePositive += 1\n",
    "        elif predList[0][i] == 0 and tlist[0][i] == 0:\n",
    "            trueNegative += 1\n",
    "        elif predList[0][i] == 0 and tlist[0][i] == 1:\n",
    "            falseNegative += 1\n",
    "        elif predList[0][i] == 1 and tlist[0][i] == 0:\n",
    "            falsePositive += 1\n",
    "        else:\n",
    "            print(predList[0][i])\n",
    "            print(tlist[0][i])\n",
    "            print(\"WTF\")\n",
    "    tpr = truePositive / (truePositive + falseNegative) * 100\n",
    "    fpr = falsePositive / (falsePositive + trueNegative) * 100\n",
    "    precision = truePositive / (truePositive + falsePositive) * 100\n",
    "    print(\"\\nOn Train set:\\nTrue Positive:  \", truePositive)\n",
    "    print(\"True Negative:  \", trueNegative)\n",
    "    print(\"False Negative:  \", falseNegative)\n",
    "    print(\"False Positive:  \", falsePositive)\n",
    "    print(\"True Positive Rate / Recall: %.2f\" % tpr+str('%'))\n",
    "    print(\"Precision: %.2f\" %precision+str('%'))\n",
    "    print(\"False Positive Rate / Fallout: %.2f\" %fpr+str('%'))\n",
    "\n",
    "    X_test = pd.read_csv(\"test_cancer_data.csv\")\n",
    "    X_test = np.array(X_test)\n",
    "    X_test = X_test.T\n",
    "    Y_test = pd.read_csv(\"test_cancer_data_y.csv\")\n",
    "    Y_test = np.array(Y_test)\n",
    "    Y_test = Y_test.T\n",
    "\n",
    "    predictions = predict(params, X_test)\n",
    "    print('\\nAccuracy on test set: %.2f' % float(\n",
    "        (np.dot(Y_test, predictions.T) + np.dot(1 - Y_test, 1 - predictions.T)) / float(Y_test.size) * 100) + '%')\n",
    "    truePositive = 0\n",
    "    trueNegative = 0\n",
    "    falseNegative = 0\n",
    "    falsePositive = 0\n",
    "    predList = predictions.tolist()\n",
    "    tlist = Y_test.tolist()\n",
    "\n",
    "    array_length = len(predList[0])\n",
    "    for i in range(array_length):\n",
    "        if predList[0][i] == 1 and tlist[0][i] == 1:\n",
    "            truePositive += 1\n",
    "        elif predList[0][i] == 0 and tlist[0][i] == 0:\n",
    "            trueNegative += 1\n",
    "        elif predList[0][i] == 0 and tlist[0][i] == 1:\n",
    "            falseNegative += 1\n",
    "        elif predList[0][i] == 1 and tlist[0][i] == 0:\n",
    "            falsePositive += 1\n",
    "        else:\n",
    "            print(predList[0][i])\n",
    "            print(tlist[0][i])\n",
    "            print(\"WTF\")\n",
    "\n",
    "    tpr = truePositive / (truePositive + falseNegative) * 100\n",
    "    fpr = falsePositive / (falsePositive + trueNegative) * 100\n",
    "    precision = truePositive / (truePositive + falsePositive) * 100\n",
    "    print(\"\\nOn Test set:\\nTrue Positive:  \", truePositive)\n",
    "    print(\"True Negative:  \", trueNegative)\n",
    "    print(\"False Negative:  \", falseNegative)\n",
    "    print(\"False Positive:  \", falsePositive)\n",
    "    print(\"True Positive Rate / Recall: %.2f\" % tpr+str('%'))\n",
    "    print(\"Precision: %.2f\" %precision+str('%'))\n",
    "    print(\"False Positive Rate / Fallout: %.2f\" %fpr+str('%'))\n",
    "\n",
    "    plt.plot(np.squeeze(costs))\n",
    "    plt.ylabel('cost')\n",
    "    plt.xlabel('iterations (per tens)')\n",
    "    plt.title(\"Learning rate =\" + str(alpha))\n",
    "    plt.show()\n",
    "\n",
    "    return params"
   ]
  },
  {
   "cell_type": "code",
   "execution_count": 71,
   "metadata": {},
   "outputs": [],
   "source": [
    "def predict(parameters, X):\n",
    "    A_last, cache = L_model_forward(X, parameters)\n",
    "    predictions = np.round(A_last)\n",
    "    return predictions"
   ]
  },
  {
   "cell_type": "code",
   "execution_count": 72,
   "metadata": {},
   "outputs": [
    {
     "name": "stdout",
     "output_type": "stream",
     "text": [
      "Cost after iteration 0: 0.693147\n",
      "Cost after iteration 100: 0.688618\n",
      "Cost after iteration 200: 0.685724\n",
      "Cost after iteration 300: 0.683864\n",
      "Cost after iteration 400: 0.682641\n",
      "Cost after iteration 500: 0.681750\n",
      "Cost after iteration 600: 0.680575\n",
      "Cost after iteration 700: 0.656915\n",
      "Cost after iteration 800: 0.593908\n",
      "Cost after iteration 900: 0.541235\n",
      "Cost after iteration 1000: 0.453903\n",
      "Cost after iteration 1100: 0.406102\n",
      "\n",
      "Accuracy on training set: 89.95%\n",
      "\n",
      "On Train set:\n",
      "True Positive:   137\n",
      "True Negative:   239\n",
      "False Negative:   39\n",
      "False Positive:   3\n",
      "True Positive Rate / Recall: 77.84%\n",
      "Precision: 97.86%\n",
      "False Positive Rate / Fallout: 1.24%\n",
      "\n",
      "Accuracy on test set: 93.29%\n",
      "\n",
      "On Test set:\n",
      "True Positive:   26\n",
      "True Negative:   113\n",
      "False Negative:   9\n",
      "False Positive:   1\n",
      "True Positive Rate / Recall: 74.29%\n",
      "Precision: 96.30%\n",
      "False Positive Rate / Fallout: 0.88%\n"
     ]
    },
    {
     "data": {
      "image/png": "[encoded data removed]",
      "text/plain": [
       "<Figure size 432x288 with 1 Axes>"
      ]
     },
     "metadata": {
      "needs_background": "light"
     },
     "output_type": "display_data"
    }
   ],
   "source": [
    "train_x = pd.read_csv(\"cancer_data.csv\")\n",
    "train_x = np.array(train_x)\n",
    "train_y = pd.read_csv(\"cancer_data_y.csv\")\n",
    "train_y = np.array(train_y)\n",
    "dims = [30, 30, 20, 11, 1]\n",
    "d = model(train_x.T, train_y.T, dims, print_cost=True)"
   ]
  },
  {
   "cell_type": "code",
   "execution_count": null,
   "metadata": {},
   "outputs": [],
   "source": []
  }
 ],
 "metadata": {
  "kernelspec": {
   "display_name": "Python 3",
   "language": "python",
   "name": "python3"
  },
  "language_info": {
   "codemirror_mode": {
    "name": "ipython",
    "version": 3
   },
   "file_extension": ".py",
   "mimetype": "text/x-python",
   "name": "python",
   "nbconvert_exporter": "python",
   "pygments_lexer": "ipython3",
   "version": "3.7.4"
  }
 },
 "nbformat": 4,
 "nbformat_minor": 2
}
